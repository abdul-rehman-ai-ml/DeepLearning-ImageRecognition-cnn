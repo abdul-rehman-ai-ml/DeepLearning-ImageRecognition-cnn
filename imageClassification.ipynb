{
 "cells": [
  {
   "cell_type": "code",
   "execution_count": null,
   "id": "a9be6720",
   "metadata": {},
   "outputs": [],
   "source": [
    "import tensorflow as tf\n",
    "from tensorflow.keras.preprocessing.image import ImageDataGenerator\n",
    "\n",
    "tf_version = tf.__version__\n",
    "print(f\"TensorFlow version: {tf_version}\")  "
   ]
  },
  {
   "cell_type": "code",
   "execution_count": null,
   "id": "17b7b997",
   "metadata": {},
   "outputs": [],
   "source": [
    "## Data Preprocessing\n",
    "train_datagen = ImageDataGenerator(rescale=1./255,\n",
    "                                   shear_range=0.2,\n",
    "                                      zoom_range=0.2,\n",
    "                                        horizontal_flip=True)\n",
    "training_set = train_datagen.flow_from_directory('./cnn/training_set',\n",
    "                                                 target_size=(64, 64),\n",
    "                                                   batch_size=32,\n",
    "                                                     class_mode='binary')    \n"
   ]
  },
  {
   "cell_type": "code",
   "execution_count": null,
   "id": "01c4d7a9",
   "metadata": {},
   "outputs": [],
   "source": [
    "test_datagen = ImageDataGenerator(rescale=1./255)\n",
    "test_set = test_datagen.flow_from_directory('./cnn/test_set',\n",
    "                                            target_size=(64, 64),\n",
    "                                              batch_size=32,\n",
    "                                                class_mode='binary')    "
   ]
  },
  {
   "cell_type": "code",
   "execution_count": null,
   "id": "a3fd7c90",
   "metadata": {},
   "outputs": [],
   "source": [
    "## Building the CNN\n",
    "cnn = tf.keras.models.Sequential()\n",
    "cnn.add(tf.keras.layers.Conv2D(filters=32, kernel_size=3, activation='relu', input_shape=[64, 64, 3]))\n",
    "cnn.add(tf.keras.layers.MaxPool2D(pool_size=2, strides=2))\n",
    "cnn.add(tf.keras.layers.Conv2D(filters=32, kernel_size=3, activation='relu'))\n",
    "cnn.add(tf.keras.layers.MaxPool2D(pool_size=2, strides=2)) \n",
    "cnn.add(tf.keras.layers.Flatten())\n",
    "cnn.add(tf.keras.layers.Dense(units=128, activation='relu'))   \n",
    "cnn.add(tf.keras.layers.Dense(units=1, activation='sigmoid'))\n",
    "cnn.compile(optimizer = 'adam', loss = 'binary_crossentropy', metrics = ['accuracy'])\n",
    "cnn.fit(x = training_set, validation_data = test_set, epochs = 25)\n",
    "\n"
   ]
  },
  {
   "cell_type": "code",
   "execution_count": null,
   "id": "f377319a",
   "metadata": {},
   "outputs": [],
   "source": [
    "## Making a single prediction\n",
    "import numpy as np\n",
    "from tensorflow.keras.preprocessing import image\n",
    "test_image = image.load_img('./cnn/single_prediction/cat_or_dog_2.jpg', target_size = (64, 64))\n",
    "test_image = image.img_to_array(test_image)\n",
    "test_image = np.expand_dims(test_image, axis = 0)\n",
    "result = cnn.predict(test_image)\n",
    "training_set.class_indices\n",
    "if result[0][0] == 1:\n",
    "    prediction = 'dog'\n",
    "else:\n",
    "    prediction = 'cat'      \n",
    "print(prediction)# Run these commands in your terminal"
   ]
  }
 ],
 "metadata": {
  "language_info": {
   "name": "python"
  }
 },
 "nbformat": 4,
 "nbformat_minor": 5
}
